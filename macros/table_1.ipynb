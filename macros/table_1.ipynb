{
 "cells": [
  {
   "cell_type": "code",
   "execution_count": 1,
   "id": "942f538f-2939-471c-86a5-64aee8545c1c",
   "metadata": {},
   "outputs": [],
   "source": [
    "import numpy as np\n",
    "import json\n",
    "from scipy.stats import gaussian_kde\n",
    "\n",
    "import sys\n",
    "sys.path.append('./../figures')\n",
    "from drawChiEff import drawChieffs\n",
    "sys.path.append('./../code/emceeCode')\n",
    "from posterior_helper_functions import *"
   ]
  },
  {
   "cell_type": "code",
   "execution_count": 2,
   "id": "46536c71-b07a-4b56-a8aa-6d6cc8c9a22f",
   "metadata": {},
   "outputs": [],
   "source": [
    "# Helper function to calculate and print out quantiles\n",
    "def print_quantiles(arr, low, high): \n",
    "    median = np.quantile(arr, 0.5)\n",
    "    upper = np.quantile(arr, high)\n",
    "    lower = np.quantile(arr, low)\n",
    "    print(f'{np.round(median, 3)} + {np.round(upper - median, 3)} / - {np.round(median - lower, 3)}')\n",
    "    return median,lower,upper\n",
    "\n",
    "# Helper function to draw numbers uniformly between 'low' and 'high'\n",
    "def draw_uniform(n, low, high): \n",
    "    return np.random.random(n)*(high-low)+low"
   ]
  },
  {
   "cell_type": "code",
   "execution_count": 3,
   "id": "79871114-d945-4cf3-9993-1842fa4788c0",
   "metadata": {},
   "outputs": [],
   "source": [
    "# Load data\n",
    "root = '../data'\n",
    "models = ['betaPlusMixture', 'betaPlusTruncatedMixture', 'betaSpikePlusMixture', 'betaSpikePlusTruncatedMixture']\n",
    "\n",
    "eps_min = 0.025\n",
    "\n",
    "data_dict = {}\n",
    "for model in models: \n",
    "    with open(f'{root}/component_spin_{model}.json', 'r') as f:\n",
    "        data = json.load(f)\n",
    "    if model=='betaSpikePlusMixture' or model=='betaSpikePlusTruncatedMixture':\n",
    "        data_dict[model]= {key:np.asarray(data[key]['processed'])[np.asarray(data['sigma_spike']['processed'])>eps_min] for key in data.keys()}\n",
    "    else:\n",
    "        data_dict[model]= {key:np.asarray(data[key]['processed']) for key in data.keys()}"
   ]
  },
  {
   "cell_type": "markdown",
   "id": "be0ece85-f265-4431-808a-e77badc6600a",
   "metadata": {},
   "source": [
    "### Calculate all macros and store them in a dictionary"
   ]
  },
  {
   "cell_type": "code",
   "execution_count": 4,
   "id": "feb33dd6-27d7-49e9-841f-b1c3afe49642",
   "metadata": {},
   "outputs": [],
   "source": [
    "# Dict to store all the macros\n",
    "macros_dict = {}\n",
    "for model in models: \n",
    "    macros_dict[model] = {}"
   ]
  },
  {
   "cell_type": "markdown",
   "id": "ade2fae2-c30b-45fb-b989-3baacc3021e6",
   "metadata": {},
   "source": [
    "Fraction in spike"
   ]
  },
  {
   "cell_type": "code",
   "execution_count": 5,
   "id": "fe94741a-25fb-4aac-98e2-3b2eac30ce53",
   "metadata": {},
   "outputs": [
    {
     "name": "stdout",
     "output_type": "stream",
     "text": [
      "betaSpikePlusMixture\n",
      "0.217 + 0.308 / - 0.217\n",
      "\n",
      "betaSpikePlusTruncatedMixture\n",
      "0.332 + 0.274 / - 0.331\n",
      "\n"
     ]
    }
   ],
   "source": [
    "for model in ['betaSpikePlusMixture', 'betaSpikePlusTruncatedMixture']: \n",
    "    \n",
    "    print(model)\n",
    "    frac_data = data_dict[model]['frac_in_spike']\n",
    "    median_f,lower_f,upper_f=print_quantiles(frac_data, 0, 0.9)\n",
    "    \n",
    "    macros_dict[model]['f_spike_median'] = median_f\n",
    "    macros_dict[model]['f_spike_upper'] = upper_f\n",
    "    macros_dict[model]['f_spike_lower'] = lower_f\n",
    "    \n",
    "    print()"
   ]
  },
  {
   "cell_type": "markdown",
   "id": "f128740f-bbba-43fe-adb6-62a5b481d89d",
   "metadata": {},
   "source": [
    "$z_\\mathrm{min}$"
   ]
  },
  {
   "cell_type": "code",
   "execution_count": 6,
   "id": "3603907c-2fd0-4f0b-8656-c1ea50bee500",
   "metadata": {},
   "outputs": [
    {
     "name": "stdout",
     "output_type": "stream",
     "text": [
      "betaPlusTruncatedMixture\n",
      "-0.549 + 0.188 / - 0.224\n",
      "\n",
      "betaSpikePlusTruncatedMixture\n",
      "-0.492 + 0.265 / - 0.26\n",
      "\n"
     ]
    }
   ],
   "source": [
    "for model in ['betaPlusTruncatedMixture', 'betaSpikePlusTruncatedMixture']: \n",
    "    \n",
    "    print(model)\n",
    "    zmin_data = data_dict[model]['cost_min']\n",
    "    median_zmin,lower_zmin,upper_zmin = print_quantiles(zmin_data, 0.05, 0.95)\n",
    "    \n",
    "    macros_dict[model]['zmin_data_median'] = median_zmin\n",
    "    macros_dict[model]['zmin_data_upper'] = upper_zmin\n",
    "    macros_dict[model]['zmin_data_lower'] = lower_zmin\n",
    "    print()"
   ]
  },
  {
   "cell_type": "markdown",
   "id": "8deb0e47-a1f9-47f8-b90b-9ebd82e50d2f",
   "metadata": {},
   "source": [
    "$z_{1\\%}$"
   ]
  },
  {
   "cell_type": "code",
   "execution_count": 7,
   "id": "f9d51246-ed3f-4362-b25b-51976b3112be",
   "metadata": {},
   "outputs": [
    {
     "name": "stdout",
     "output_type": "stream",
     "text": [
      "betaPlusMixture\n",
      "-0.96 + 0.071 / - 0.021\n",
      "\n",
      "betaSpikePlusMixture\n",
      "-0.957 + 0.078 / - 0.025\n",
      "\n",
      "betaPlusTruncatedMixture\n",
      "-0.53 + 0.184 / - 0.214\n",
      "\n",
      "betaSpikePlusTruncatedMixture\n",
      "-0.473 + 0.267 / - 0.252\n",
      "\n"
     ]
    }
   ],
   "source": [
    "# models without zmin\n",
    "for model in ['betaPlusMixture', 'betaSpikePlusMixture']:\n",
    "    \n",
    "    MFs = data_dict[model]['MF_cost']\n",
    "    sigma_tilts = data_dict[model]['sigma_cost']\n",
    "    \n",
    "    # calculate z1 for each hyperparameter\n",
    "    n_samps = len(MFs)\n",
    "    z1s = np.zeros(n_samps)\n",
    "    \n",
    "    for i,MF,sigma_tilt in zip(np.arange(n_samps), MFs, sigma_tilts): \n",
    "        \n",
    "        costhetas_uniform = draw_uniform(10000,-1,1)                            \n",
    "        weights = calculate_Gaussian_Mixture_1D(costhetas_uniform, 1, sigma_tilt, MF, -1, 1)\n",
    "        costhetas = np.random.choice(costhetas_uniform, p=weights/np.sum(weights), size=1000)                               \n",
    "        z1s[i] = np.quantile(costhetas, 0.01)\n",
    "    \n",
    "    # find quantiles on z1                                 \n",
    "    print(model)\n",
    "    median_z1,lower_z1,upper_z1 = print_quantiles(z1s, 0.05, 0.95)\n",
    "    macros_dict[model]['z1_median'] = median_z1\n",
    "    macros_dict[model]['z1_upper'] = upper_z1\n",
    "    macros_dict[model]['z1_lower'] = lower_z1\n",
    "    print()\n",
    "\n",
    "# models with zmin\n",
    "for model in ['betaPlusTruncatedMixture', 'betaSpikePlusTruncatedMixture']: \n",
    "    \n",
    "    MFs = data_dict[model]['MF_cost']\n",
    "    sigma_tilts = data_dict[model]['sigma_cost']\n",
    "    zmins = data_dict[model]['cost_min']\n",
    "    \n",
    "    # calculate z1 for each hyperparameter\n",
    "    n_samps = len(MFs)\n",
    "    z1s = np.zeros(n_samps)\n",
    "    \n",
    "    for i,MF,sigma_tilt,zmin in zip(np.arange(n_samps), MFs, sigma_tilts,zmins):\n",
    "        \n",
    "        costhetas_uniform = draw_uniform(10000,zmin,1)                                  \n",
    "        weights = calculate_Gaussian_Mixture_1D(costhetas_uniform, 1, sigma_tilt, MF, zmin, 1)\n",
    "        costhetas = np.random.choice(costhetas_uniform, p=weights/np.sum(weights), size=1000)                               \n",
    "        z1s[i] = np.quantile(costhetas, 0.01)\n",
    "    \n",
    "   # find quantiles on z1                                  \n",
    "    print(model)\n",
    "    median_z1,lower_z1,upper_z1=print_quantiles(z1s, 0.05, 0.95)\n",
    "    macros_dict[model]['z1_median'] = median_z1\n",
    "    macros_dict[model]['z1_upper'] = upper_z1\n",
    "    macros_dict[model]['z1_lower'] = lower_z1\n",
    "    print()"
   ]
  },
  {
   "cell_type": "markdown",
   "id": "0fe6075b-e7c9-47fa-b09b-62cf58111bb9",
   "metadata": {},
   "source": [
    "$\\chi_{1\\%}$ and $\\chi_{99\\%}$"
   ]
  },
  {
   "cell_type": "code",
   "execution_count": 8,
   "id": "f28ebe37-8e09-4f4f-95f3-586eb5ccd862",
   "metadata": {},
   "outputs": [
    {
     "name": "stdout",
     "output_type": "stream",
     "text": [
      "betaPlusMixture\n",
      "chi_1:\n",
      "0.022 + 0.05 / - 0.021\n",
      "chi_99:\n",
      "0.581 + 0.183 / - 0.159\n",
      "\n",
      "betaPlusTruncatedMixture\n",
      "chi_1:\n",
      "0.026 + 0.051 / - 0.025\n",
      "chi_99:\n",
      "0.565 + 0.188 / - 0.142\n",
      "\n",
      "betaSpikePlusMixture\n",
      "chi_1:\n",
      "0.004 + 0.01 / - 0.003\n",
      "chi_99:\n",
      "0.643 + 0.205 / - 0.191\n",
      "\n",
      "betaSpikePlusTruncatedMixture\n",
      "chi_1:\n",
      "0.003 + 0.008 / - 0.002\n",
      "chi_99:\n",
      "0.673 + 0.201 / - 0.209\n",
      "\n"
     ]
    }
   ],
   "source": [
    "# models without spike\n",
    "for model in ['betaPlusMixture', 'betaPlusTruncatedMixture']:\n",
    "    \n",
    "    mu_chis = data_dict[model]['mu_chi']\n",
    "    sigma_chis = data_dict[model]['sigma_chi']\n",
    "    \n",
    "    # calculate chi1 and chi99 for each hyperparameter\n",
    "    n_samps = len(mu_chis)\n",
    "    chi1s = np.zeros(n_samps)\n",
    "    chi99s = np.zeros(n_samps)\n",
    "    \n",
    "    for i,mu_chi,sigma_chi in zip(np.arange(n_samps), mu_chis, sigma_chis): \n",
    "        \n",
    "        chis_uniform = draw_uniform(10000,0,1)                  \n",
    "        a,b = mu_sigma2_to_a_b(mu_chi, sigma_chi**2)   \n",
    "        chis_uniform = draw_uniform(10000,0,1)                     \n",
    "        weights = betaDistribution(chis_uniform, a,b)\n",
    "        chis = np.random.choice(chis_uniform, p=weights/np.sum(weights), size=1000)                               \n",
    "        chi1s[i] = np.quantile(chis, 0.01)\n",
    "        chi99s[i] = np.quantile(chis, 0.99)\n",
    "        \n",
    "    # find quantiles on chi10 and chi90                                  \n",
    "    print(model)\n",
    "    print('chi_1:')\n",
    "    median_chi1,lower_chi1,upper_chi1=print_quantiles(chi1s, 0.00, 0.90)\n",
    "    macros_dict[model]['chi1_median'] = median_chi1\n",
    "    macros_dict[model]['chi1_upper'] = upper_chi1\n",
    "    macros_dict[model]['chi1_lower'] = lower_chi1\n",
    "    print('chi_99:')\n",
    "    median_chi99,lower_chi99,upper_chi99=print_quantiles(chi99s, 0.05, 0.95)\n",
    "    macros_dict[model]['chi99_median'] = median_chi99\n",
    "    macros_dict[model]['chi99_upper'] = upper_chi99\n",
    "    macros_dict[model]['chi99_lower'] = lower_chi99\n",
    "    print()\n",
    "\n",
    "# models with spike\n",
    "for model in ['betaSpikePlusMixture', 'betaSpikePlusTruncatedMixture']: \n",
    "    \n",
    "    mu_chis = data_dict[model]['mu_chi']\n",
    "    sigma_chis = data_dict[model]['sigma_chi']\n",
    "    f_spikes = data_dict[model]['frac_in_spike']\n",
    "    sigma_spikes = data_dict[model]['sigma_spike']\n",
    "    \n",
    "    # calculate chi1 and chi99 for each hyperparameter\n",
    "    n_samps = len(mu_chis)\n",
    "    chi1s = np.zeros(n_samps)\n",
    "    chi99s = np.zeros(n_samps)\n",
    "    \n",
    "    for i,mu_chi,sigma_chi,f_spike,sigma_spike in zip(np.arange(n_samps), mu_chis,sigma_chis,f_spikes,sigma_spikes): \n",
    "        \n",
    "        chis_uniform = draw_uniform(10000,0,1)                  \n",
    "        a,b = mu_sigma2_to_a_b(mu_chi, sigma_chi**2)   \n",
    "        weights = betaDistributionPlusSpike(chis_uniform, a, b, f_spike, sigma_spike)\n",
    "        chis = np.random.choice(chis_uniform, p=weights/np.sum(weights), size=1000)                               \n",
    "        chi1s[i] = np.quantile(chis, 0.01)\n",
    "        chi99s[i] = np.quantile(chis, 0.99)\n",
    "        \n",
    "    # find quantiles on chi10 and chi90                                  \n",
    "    print(model)\n",
    "    print('chi_1:')\n",
    "    median_chi1,lower_chi1,upper_chi1=print_quantiles(chi1s, 0.0, 0.90)\n",
    "    macros_dict[model]['chi1_median'] = median_chi1\n",
    "    macros_dict[model]['chi1_upper'] = upper_chi1\n",
    "    macros_dict[model]['chi1_lower'] = lower_chi1\n",
    "    print('chi_99:')\n",
    "    median_chi99,lower_chi99,upper_chi99=print_quantiles(chi99s, 0.05, 0.95)\n",
    "    macros_dict[model]['chi99_median'] = median_chi99\n",
    "    macros_dict[model]['chi99_upper'] = upper_chi99\n",
    "    macros_dict[model]['chi99_lower'] = lower_chi99\n",
    "    print() "
   ]
  },
  {
   "cell_type": "markdown",
   "id": "492c9b95-72dd-421f-ae67-5d00192f7cc4",
   "metadata": {},
   "source": [
    "$\\chi_\\mathrm{eff,1\\%}$ and $\\chi_\\mathrm{eff,99\\%}$ "
   ]
  },
  {
   "cell_type": "code",
   "execution_count": 9,
   "id": "bb127dd4-1b83-4340-8150-90070a630caa",
   "metadata": {},
   "outputs": [
    {
     "name": "stderr",
     "output_type": "stream",
     "text": [
      "/home/simona.miller/gwtc3-spin-studies/macros/./../code/emceeCode/posterior_helper_functions.py:257: RuntimeWarning: overflow encountered in exp\n",
      "  f = np.exp(deltaM/m + deltaM/(m-deltaM))\n"
     ]
    },
    {
     "name": "stdout",
     "output_type": "stream",
     "text": [
      "betaPlusMixture\n",
      "chieff_1:\n",
      "-0.205 + 0.098 / - 0.129\n",
      "chieff_99:\n",
      "0.273 + 0.123 / - 0.087\n",
      "\n",
      "betaPlusTruncatedMixture\n",
      "chieff_1:\n",
      "-0.1 + 0.065 / - 0.103\n",
      "chieff_99:\n",
      "0.267 + 0.122 / - 0.086\n",
      "\n",
      "betaSpikePlusMixture\n",
      "chieff_1:\n",
      "-0.215 + 0.104 / - 0.132\n",
      "chieff_99:\n",
      "0.298 + 0.131 / - 0.103\n",
      "\n",
      "betaSpikePlusTruncatedMixture\n",
      "chieff_1:\n",
      "-0.1 + 0.081 / - 0.108\n",
      "chieff_99:\n",
      "0.304 + 0.147 / - 0.099\n",
      "\n"
     ]
    }
   ],
   "source": [
    "for model in models:\n",
    "    \n",
    "    nsamps = len(data_dict[model]['mu_chi'])\n",
    "    \n",
    "    chieff1s = np.zeros(nsamps)\n",
    "    chieff99s = np.zeros(nsamps)\n",
    "    \n",
    "    # cycle through hyper parameters  \n",
    "    for i in np.arange(nsamps): \n",
    "\n",
    "        mu_chi = data_dict[model]['mu_chi'][i]\n",
    "        sigma_chi = data_dict[model]['sigma_chi'][i]                                \n",
    "        MF_cost = data_dict[model]['MF_cost'][i]\n",
    "        sigma_cost = data_dict[model]['sigma_cost'][i]\n",
    "        Bq = data_dict[model]['Bq'][i]\n",
    "\n",
    "        a, b = mu_sigma2_to_a_b(mu_chi, sigma_chi**2)\n",
    "\n",
    "        # specific distribution we calculate depends on the model of interest\n",
    "        if model=='betaPlusMixture': \n",
    "            f_spike = None\n",
    "            sigma_spike = None\n",
    "            zmin = -1\n",
    "\n",
    "        elif model=='betaPlusTruncatedMixture': \n",
    "            f_spike = None\n",
    "            sigma_spike = None\n",
    "            zmin = data_dict[model]['cost_min'][i]\n",
    "\n",
    "        elif model=='betaSpikePlusMixture': \n",
    "            f_spike = data_dict[model]['frac_in_spike'][i]\n",
    "            sigma_spike = data_dict[model]['sigma_spike'][i]\n",
    "            zmin = -1\n",
    "\n",
    "        elif model=='betaSpikePlusTruncatedMixture':\n",
    "            f_spike = data_dict[model]['frac_in_spike'][i]\n",
    "            sigma_spike = data_dict[model]['sigma_spike'][i]\n",
    "            zmin = data_dict[model]['cost_min'][i]\n",
    "\n",
    "        else: \n",
    "            print('model not found, something wrong')\n",
    "            break    \n",
    "\n",
    "        # draw chi-effectives from this distribution\n",
    "        chi_effs = drawChieffs(mu_chi, sigma_chi, MF_cost, sigma_cost, f_spike, sigma_spike, zmin, Bq, n=1000)\n",
    "        chieff1s[i] = np.quantile(chi_effs, 0.01)\n",
    "        chieff99s[i] = np.quantile(chi_effs, 0.99)\n",
    "\n",
    "    # find quantiles on chieff1 and chieff99                                  \n",
    "    print(model)\n",
    "    print('chieff_1:')\n",
    "    median_chieff1,lower_chieff1,upper_chieff1=print_quantiles(chieff1s, 0.05, 0.95)\n",
    "    macros_dict[model]['chieff1_median'] = median_chieff1\n",
    "    macros_dict[model]['chieff1_upper'] = upper_chieff1\n",
    "    macros_dict[model]['chieff1_lower'] = lower_chieff1\n",
    "    print('chieff_99:')\n",
    "    median_chieff99,lower_chieff99,upper_chieff99=print_quantiles(chieff99s, 0.05, 0.95)\n",
    "    macros_dict[model]['chieff99_median'] = median_chieff99\n",
    "    macros_dict[model]['chieff99_upper'] = upper_chieff99\n",
    "    macros_dict[model]['chieff99_lower'] = lower_chieff99\n",
    "    print() "
   ]
  },
  {
   "cell_type": "markdown",
   "id": "ea80ac3e-5ae5-4962-9602-1161c1839860",
   "metadata": {},
   "source": [
    "### Make `.txt` file with macros"
   ]
  },
  {
   "cell_type": "code",
   "execution_count": 10,
   "id": "a3139ee8-04fa-43f9-8c26-20d0a71e5370",
   "metadata": {},
   "outputs": [
    {
     "name": "stdout",
     "output_type": "stream",
     "text": [
      "betaPlusMixture\n",
      "f_spike not in betaPlusMixture\n",
      "zmin_data not in betaPlusMixture\n",
      "\\newcommand{\\betaPlusMixturezOne}{-0.96^{+0.07}_{-0.02}}\n",
      "\\newcommand{\\betaPlusMixturechiOne}{0.02^{+0.05}_{-0.02}}\n",
      "\\newcommand{\\betaPlusMixturechiNinetyNine}{0.58^{+0.18}_{-0.16}}\n",
      "\\newcommand{\\betaPlusMixturechieffOne}{-0.20^{+0.10}_{-0.13}}\n",
      "\\newcommand{\\betaPlusMixturechieffNinetyNine}{0.27^{+0.12}_{-0.09}}\n",
      "\n",
      "betaPlusTruncatedMixture\n",
      "f_spike not in betaPlusTruncatedMixture\n",
      "\\newcommand{\\betaPlusTruncatedMixturezmindata}{-0.55^{+0.19}_{-0.22}}\n",
      "\\newcommand{\\betaPlusTruncatedMixturezOne}{-0.53^{+0.18}_{-0.21}}\n",
      "\\newcommand{\\betaPlusTruncatedMixturechiOne}{0.03^{+0.05}_{-0.03}}\n",
      "\\newcommand{\\betaPlusTruncatedMixturechiNinetyNine}{0.57^{+0.19}_{-0.14}}\n",
      "\\newcommand{\\betaPlusTruncatedMixturechieffOne}{-0.10^{+0.06}_{-0.10}}\n",
      "\\newcommand{\\betaPlusTruncatedMixturechieffNinetyNine}{0.27^{+0.12}_{-0.09}}\n",
      "\n",
      "betaSpikePlusMixture\n",
      "\\newcommand{\\betaSpikePlusMixturefspike}{0.22^{+0.31}_{-0.22}}\n",
      "zmin_data not in betaSpikePlusMixture\n",
      "\\newcommand{\\betaSpikePlusMixturezOne}{-0.96^{+0.08}_{-0.02}}\n",
      "\\newcommand{\\betaSpikePlusMixturechiOne}{0.004^{+0.010}_{-0.003}}\n",
      "\\newcommand{\\betaSpikePlusMixturechiNinetyNine}{0.64^{+0.20}_{-0.19}}\n",
      "\\newcommand{\\betaSpikePlusMixturechieffOne}{-0.21^{+0.10}_{-0.13}}\n",
      "\\newcommand{\\betaSpikePlusMixturechieffNinetyNine}{0.30^{+0.13}_{-0.10}}\n",
      "\n",
      "betaSpikePlusTruncatedMixture\n",
      "\\newcommand{\\betaSpikePlusTruncatedMixturefspike}{0.33^{+0.27}_{-0.33}}\n",
      "\\newcommand{\\betaSpikePlusTruncatedMixturezmindata}{-0.49^{+0.26}_{-0.26}}\n",
      "\\newcommand{\\betaSpikePlusTruncatedMixturezOne}{-0.47^{+0.27}_{-0.25}}\n",
      "\\newcommand{\\betaSpikePlusTruncatedMixturechiOne}{0.003^{+0.008}_{-0.002}}\n",
      "\\newcommand{\\betaSpikePlusTruncatedMixturechiNinetyNine}{0.67^{+0.20}_{-0.21}}\n",
      "\\newcommand{\\betaSpikePlusTruncatedMixturechieffOne}{-0.10^{+0.08}_{-0.11}}\n",
      "\\newcommand{\\betaSpikePlusTruncatedMixturechieffNinetyNine}{0.30^{+0.15}_{-0.10}}\n",
      "\n"
     ]
    }
   ],
   "source": [
    "params = ['f_spike', 'zmin_data', 'z1', 'chi1', 'chi99', 'chieff1', 'chieff99'] \n",
    "\n",
    "with open('table1_macros.txt','w') as macrofile:\n",
    "    \n",
    "    for model in models: \n",
    "        print(model)\n",
    "        for param in params: \n",
    "            \n",
    "            try:\n",
    "                median = macros_dict[model][f'{param}_median']\n",
    "                upper = macros_dict[model][f'{param}_upper']\n",
    "                lower = macros_dict[model][f'{param}_lower']\n",
    "\n",
    "                upper_ebar = upper - median\n",
    "                lower_ebar = median - lower\n",
    "                \n",
    "                macroname = model.replace('_','')+param.replace('_','').replace('1','One').replace('99','NinetyNine')\n",
    "                \n",
    "                if f'{median:.2f}'=='0.00': \n",
    "                    line = f\"\\\\newcommand{{\\\\{macroname}}}{{{median:.3f}^{{+{upper_ebar:.3f}}}_{{-{lower_ebar:.3f}}}}}\"\n",
    "                else: \n",
    "                    line = f\"\\\\newcommand{{\\\\{macroname}}}{{{median:.2f}^{{+{upper_ebar:.2f}}}_{{-{lower_ebar:.2f}}}}}\"\n",
    "                print(line)\n",
    "                macrofile.write(line)\n",
    "                macrofile.write(\"\\n\")\n",
    "            except: \n",
    "                print(f'{param} not in {model}')\n",
    "                \n",
    "        print('')"
   ]
  }
 ],
 "metadata": {
  "kernelspec": {
   "display_name": "igwn-py38",
   "language": "python",
   "name": "igwn-py38"
  },
  "language_info": {
   "codemirror_mode": {
    "name": "ipython",
    "version": 3
   },
   "file_extension": ".py",
   "mimetype": "text/x-python",
   "name": "python",
   "nbconvert_exporter": "python",
   "pygments_lexer": "ipython3",
   "version": "3.8.12"
  }
 },
 "nbformat": 4,
 "nbformat_minor": 5
}
