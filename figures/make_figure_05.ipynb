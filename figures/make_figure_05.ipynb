{
 "cells": [
  {
   "cell_type": "code",
   "execution_count": 3,
   "id": "9518a776-31c7-4ba7-acfb-6c5d19b4467f",
   "metadata": {},
   "outputs": [],
   "source": [
    "import arviz as az\n",
    "import matplotlib.pyplot as plt\n",
    "from matplotlib import style\n",
    "from matplotlib.lines import Line2D\n",
    "style.use('plotting.mplstyle')\n",
    "import numpy as np\n",
    "import json\n",
    "from scipy.stats import gaussian_kde\n",
    "import sys\n",
    "\n",
    "sys.path.append('./../code/emceeCode')\n",
    "from posterior_helper_functions import *"
   ]
  },
  {
   "cell_type": "code",
   "execution_count": null,
   "id": "0bb78f68-01e1-4699-8a63-c8df45a03511",
   "metadata": {},
   "outputs": [],
   "source": [
    "# Define function to draw n chi-effective values corresponding to a component spin + mass ratio \n",
    "# distribution w/ parameters {mu_chi, sigma_chi, MF_cost, sigma_cost, f_spike, sigma_spike, cost_min, Bq}\n",
    "\n",
    "def drawChieffs(mu_chi, sigma_chi, MF_cost, sigma_cost, f_spike, sigma_spike, cost_min, Bq, n=1): \n",
    "    \n",
    "    # draw uniform component spins + masses\n",
    "    nRandomDraws = 10000\n",
    "    samp_idxs = np.arange(nRandomDraws)\n",
    "    chi1s = np.random.rand(nRandomDraws)\n",
    "    chi2s = np.random.rand(nRandomDraws)\n",
    "    cost1s = np.random.rand(nRandomDraws)*2 - 1\n",
    "    cost2s = np.random.rand(nRandomDraws)*2 - 1\n",
    "    mAs = np.random.rand(nRandomDraws)*100\n",
    "    mBs = np.random.rand(nRandomDraws)*100\n",
    "    m1s = np.maximum(mAs, mBs)\n",
    "    m2s = np.minimum(mAs, mBs)\n",
    "    \n",
    "    # calculate p(spins,masses) for these uniform samples,\n",
    "    # using functions from posterior_helper_functions.py\n",
    "    p_chi1 = betaDistributionPlusSpike(chi1s, mu_chi, sigma_chi, f_spike, sigma_spike)\n",
    "    p_chi2 = betaDistributionPlusSpike(chi2s, mu_chi, sigma_chi, f_spike, sigma_spike)\n",
    "    p_cost1 = calculate_Gaussian_Mixture_1D(cost1s, 1, sigma_cost, MF_cost, cost_min, 1)\n",
    "    p_cost2 = calculate_Gaussian_Mixture_1D(cost2s, 1, sigma_cost, MF_cost, cost_min, 1)\n",
    "    p_masses = p_astro_masses(m1s, m2s, bq=Bq)\n",
    "    \n",
    "    weights = p_chi1*p_chi2*p_cost1*p_cost2*p_masses\n",
    "    weights_normed = weights/np.sum(weights)\n",
    "    weights_normed[np.where(weights_normed<0)] = 0 # get rid of tiny division errors\n",
    "    \n",
    "    # select a subset of the samples subject to the weights\n",
    "    # calculated from p(spins,masses)\n",
    "    idxs = np.random.choice(samp_idxs, p=weights_normed, size=n)  \n",
    "    \n",
    "    # calculate chi-eff for these samples\n",
    "    q = m2s[idxs]/m1s[idxs]\n",
    "    chi_eff = (chi1s[idxs]*cost1s[idxs] + q*chi2s[idxs]*cost2s[idxs])/(1+q)\n",
    "    \n",
    "    return chi_eff"
   ]
  }
 ],
 "metadata": {
  "kernelspec": {
   "display_name": "igwn-py38",
   "language": "python",
   "name": "igwn-py38"
  },
  "language_info": {
   "codemirror_mode": {
    "name": "ipython",
    "version": 3
   },
   "file_extension": ".py",
   "mimetype": "text/x-python",
   "name": "python",
   "nbconvert_exporter": "python",
   "pygments_lexer": "ipython3",
   "version": "3.8.12"
  }
 },
 "nbformat": 4,
 "nbformat_minor": 5
}
