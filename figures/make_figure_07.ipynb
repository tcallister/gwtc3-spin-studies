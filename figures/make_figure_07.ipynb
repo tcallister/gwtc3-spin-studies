{
 "cells": [
  {
   "cell_type": "code",
   "execution_count": 1,
   "id": "5e121007-b974-4255-8fb9-00c995d7d2fd",
   "metadata": {},
   "outputs": [],
   "source": [
    "import matplotlib.pyplot as plt\n",
    "from matplotlib import style\n",
    "style.use('plotting.mplstyle')\n",
    "import numpy as np\n",
    "import json\n",
    "from drawChiEff import drawChieffs\n",
    "\n",
    "import sys\n",
    "sys.path.append('./../code/emceeCode')\n",
    "from posterior_helper_functions import *"
   ]
  },
  {
   "cell_type": "markdown",
   "id": "38d2dd29-fb1f-46ff-a83e-0fca8f41ac37",
   "metadata": {},
   "source": [
    "First generate data to plot"
   ]
  },
  {
   "cell_type": "code",
   "execution_count": 2,
   "id": "58f10875-5883-49b1-8f5c-6add522498f4",
   "metadata": {},
   "outputs": [],
   "source": [
    "# Load data\n",
    "root = '../data'\n",
    "models = ['betaPlusMixture', 'betaPlusTruncatedMixture', 'betaSpikePlusMixture', 'betaSpikePlusTruncatedMixture']\n",
    "\n",
    "eps_min = 0.03\n",
    "\n",
    "data_dict = {}\n",
    "for model in models: \n",
    "    with open(f'{root}/component_spin_{model}.json', 'r') as f:\n",
    "        data = json.load(f)\n",
    "    if model=='betaSpikePlusMixture' or model=='betaSpikePlusTruncatedMixture':\n",
    "        data_dict[model]= {key:np.asarray(data[key]['processed'])[np.asarray(data['sigma_spike']['processed'])>eps_min] for key in data.keys()}\n",
    "    else:\n",
    "        data_dict[model]= {key:np.asarray(data[key]['processed']) for key in data.keys()}"
   ]
  },
  {
   "cell_type": "code",
   "execution_count": 3,
   "id": "91830cc4-a300-4a87-bd44-f277422a2e08",
   "metadata": {},
   "outputs": [
    {
     "name": "stdout",
     "output_type": "stream",
     "text": [
      "Calculating chi-eff 1%s for betaPlusMixture...\n"
     ]
    },
    {
     "name": "stderr",
     "output_type": "stream",
     "text": [
      "/home/simona.miller/gwtc3-spin-studies/figures/./../code/emceeCode/posterior_helper_functions.py:257: RuntimeWarning: overflow encountered in exp\n",
      "  f = np.exp(deltaM/m + deltaM/(m-deltaM))\n"
     ]
    },
    {
     "name": "stdout",
     "output_type": "stream",
     "text": [
      "Calculating chi-eff 1%s for betaPlusTruncatedMixture...\n",
      "Calculating chi-eff 1%s for betaSpikePlusMixture...\n",
      "Calculating chi-eff 1%s for betaSpikePlusTruncatedMixture...\n"
     ]
    }
   ],
   "source": [
    "# make dict in which to store data\n",
    "chieff1s_dict = {}\n",
    "\n",
    "# cycle through models\n",
    "for model in models: \n",
    "        \n",
    "    print(f'Calculating chi-eff 1%s for {model}...')\n",
    "    \n",
    "    data = data_dict[model]\n",
    "    idxs = np.arange(len(data['mu_chi']))\n",
    "        \n",
    "    chieff1s = np.zeros(len(idxs))\n",
    "    \n",
    "    # cycle through downsampled hyper parameters  \n",
    "    for n,i in enumerate(idxs): \n",
    "        \n",
    "        mu_chi = data_dict[model]['mu_chi'][i]\n",
    "        sigma_chi = data_dict[model]['sigma_chi'][i]                                \n",
    "        MF_cost = data_dict[model]['MF_cost'][i]\n",
    "        sigma_cost = data_dict[model]['sigma_cost'][i]\n",
    "        Bq = data_dict[model]['Bq'][i]\n",
    "        \n",
    "        a, b = mu_sigma2_to_a_b(mu_chi, sigma_chi**2)\n",
    "        \n",
    "        # specific distribution we calculate depends on the model of interest\n",
    "        if model=='betaPlusMixture': \n",
    "            f_spike = None\n",
    "            sigma_spike = None\n",
    "            zmin = -1\n",
    "\n",
    "        elif model=='betaPlusTruncatedMixture': \n",
    "            f_spike = None\n",
    "            sigma_spike = None\n",
    "            zmin = data_dict[model]['cost_min'][i]\n",
    "\n",
    "        elif model=='betaSpikePlusMixture': \n",
    "            f_spike = data_dict[model]['frac_in_spike'][i]\n",
    "            sigma_spike = data_dict[model]['sigma_spike'][i]\n",
    "            zmin = -1\n",
    "\n",
    "        elif model=='betaSpikePlusTruncatedMixture':\n",
    "            f_spike = data_dict[model]['frac_in_spike'][i]\n",
    "            sigma_spike = data_dict[model]['sigma_spike'][i]\n",
    "            zmin = data_dict[model]['cost_min'][i]\n",
    "        \n",
    "        else: \n",
    "            print('model not found, something wrong')\n",
    "            break    \n",
    "        \n",
    "        # draw chi-effectives from this distribution\n",
    "        chi_effs = drawChieffs(mu_chi, sigma_chi, MF_cost, sigma_cost, f_spike, sigma_spike, zmin, Bq, n=1000)\n",
    "        \n",
    "        # calculate 1% quantile on the chi-eff draws \n",
    "        chieff1s[i] = np.quantile(chi_effs, 0.01)\n",
    "        \n",
    "    # add results to dict\n",
    "    chieff1s_dict[model] = chieff1s"
   ]
  },
  {
   "cell_type": "markdown",
   "id": "d53e0239-8da9-41e5-937a-af3ee0a70c7e",
   "metadata": {},
   "source": [
    "Then make plot"
   ]
  },
  {
   "cell_type": "code",
   "execution_count": 4,
   "id": "b99558eb-e099-4730-bb94-0881f9d332f9",
   "metadata": {},
   "outputs": [
    {
     "data": {
      "image/png": "[encoded data removed]",
      "text/plain": [
       "<Figure size 432x324 with 1 Axes>"
      ]
     },
     "metadata": {
      "needs_background": "light"
     },
     "output_type": "display_data"
    }
   ],
   "source": [
    "labels = [r'\\texttt{Beta + Mixture}', r'\\texttt{Beta + TruncatedMixture}', r'\\texttt{BetaSpike + Mixture}', r'\\texttt{BetaSpike + TruncatedMixture}']\n",
    "colors=[(51/256,160/256,44/256), (51/256,160/256,44/256), (227/256,26/256,28/256), (227/256,26/256,28/256)]\n",
    "linestyles=['solid', 'dotted', 'solid', 'dotted']\n",
    "\n",
    "plt.figure()\n",
    "\n",
    "for model,label,color,linestyle in zip(models, labels, colors, linestyles):\n",
    "    \n",
    "    chieff_mins = chieff1s_dict[model]\n",
    "    plt.hist(chieff_mins, bins=np.linspace(-0.5,0.3,25), density=True, \n",
    "             label=label, histtype='step', color=color, ls=linestyle, lw=2)\n",
    "\n",
    "plt.xlim(-0.56, 0.1)\n",
    "plt.ylim(0, 9)\n",
    "plt.xlabel(r'$\\chi_{\\mathrm{eff,\\,1\\%}}$')\n",
    "plt.ylabel(r'$p(\\chi_{\\mathrm{eff,\\,1\\%}})$')\n",
    "plt.legend(loc='upper left', fontsize=12)\n",
    "\n",
    "plt.savefig('figure_07.pdf', bbox_inches='tight')"
   ]
  },
  {
   "cell_type": "markdown",
   "id": "df38571c-92c2-4a95-b33c-ac92f8fc6914",
   "metadata": {},
   "source": [
    "Find percentiles that $\\chi_{\\mathrm{eff,\\,1\\%}} > 0$ for the two cases:"
   ]
  },
  {
   "cell_type": "code",
   "execution_count": 6,
   "id": "9de4661e-9c9f-4945-a0f2-461d2eb75f68",
   "metadata": {},
   "outputs": [
    {
     "name": "stdout",
     "output_type": "stream",
     "text": [
      "betaPlusMixture\n",
      "1.0\n",
      "\n",
      "betaPlusTruncatedMixture\n",
      "0.9963709677419355\n",
      "\n",
      "betaSpikePlusMixture\n",
      "1.0\n",
      "\n",
      "betaSpikePlusTruncatedMixture\n",
      "0.9875259875259875\n",
      "\n"
     ]
    }
   ],
   "source": [
    "for model in models: \n",
    "    chieff_mins = chieff1s_dict[model]\n",
    "    percentile = len(chieff_mins[chieff_mins<0])/len(chieff_mins)\n",
    "    \n",
    "    print(model)\n",
    "    print(percentile)\n",
    "    print()"
   ]
  },
  {
   "cell_type": "code",
   "execution_count": null,
   "id": "ed1a9da7-bfea-4242-b89b-b8c4cca4cece",
   "metadata": {},
   "outputs": [],
   "source": []
  }
 ],
 "metadata": {
  "kernelspec": {
   "display_name": "igwn-py38",
   "language": "python",
   "name": "igwn-py38"
  },
  "language_info": {
   "codemirror_mode": {
    "name": "ipython",
    "version": 3
   },
   "file_extension": ".py",
   "mimetype": "text/x-python",
   "name": "python",
   "nbconvert_exporter": "python",
   "pygments_lexer": "ipython3",
   "version": "3.8.12"
  }
 },
 "nbformat": 4,
 "nbformat_minor": 5
}
